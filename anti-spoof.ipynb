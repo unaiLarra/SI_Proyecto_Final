{
 "cells": [
  {
   "cell_type": "markdown",
   "metadata": {},
   "source": [
    "# Anti Spoofing CNN"
   ]
  },
  {
   "cell_type": "code",
   "execution_count": 1,
   "metadata": {},
   "outputs": [],
   "source": [
    "import torch\n",
    "import torch.nn as nn\n",
    "import torch.optim as optim\n",
    "import numpy as np\n",
    "from torch.utils.data import DataLoader\n",
    "from torchvision import datasets, transforms, models\n",
    "from sklearn.metrics import f1_score, accuracy_score, confusion_matrix\n",
    "from tqdm import tqdm"
   ]
  },
  {
   "cell_type": "markdown",
   "metadata": {},
   "source": [
    "## Data Download"
   ]
  },
  {
   "cell_type": "code",
   "execution_count": 2,
   "metadata": {},
   "outputs": [
    {
     "name": "stderr",
     "output_type": "stream",
     "text": [
      "/home/unai/Documents/Uni/Año4/Deusto/SI/SIEnv/lib/python3.10/site-packages/tqdm/auto.py:21: TqdmWarning: IProgress not found. Please update jupyter and ipywidgets. See https://ipywidgets.readthedocs.io/en/stable/user_install.html\n",
      "  from .autonotebook import tqdm as notebook_tqdm\n"
     ]
    },
    {
     "name": "stdout",
     "output_type": "stream",
     "text": [
      "Warning: Looks like you're using an outdated `kagglehub` version (installed: 0.3.11), please consider upgrading to the latest version (0.3.12).\n",
      "Path to dataset files: /home/unai/.cache/kagglehub/datasets/faber24/lcc-fasd/versions/1\n"
     ]
    }
   ],
   "source": [
    "import kagglehub\n",
    "\n",
    "# Download latest version\n",
    "path = kagglehub.dataset_download(\"faber24/lcc-fasd\")\n",
    "\n",
    "print(\"Path to dataset files:\", path)"
   ]
  },
  {
   "cell_type": "code",
   "execution_count": 3,
   "metadata": {},
   "outputs": [
    {
     "name": "stdout",
     "output_type": "stream",
     "text": [
      "/home/unai/.cache/kagglehub/datasets/faber24/lcc-fasd/versions/1/LCC_FASD/LCC_FASD_evaluation\n",
      "/home/unai/.cache/kagglehub/datasets/faber24/lcc-fasd/versions/1/LCC_FASD/LCC_FASD_training\n",
      "/home/unai/.cache/kagglehub/datasets/faber24/lcc-fasd/versions/1/LCC_FASD/LCC_FASD_development\n"
     ]
    }
   ],
   "source": [
    "import os\n",
    "\n",
    "for entry in os.scandir(path):\n",
    "    if entry.is_dir:\n",
    "        for entry2 in os.scandir(entry.path):\n",
    "            print(entry2.path)\n",
    "    "
   ]
  },
  {
   "cell_type": "code",
   "execution_count": 4,
   "metadata": {},
   "outputs": [],
   "source": [
    "data_splits_paths = {\n",
    "    \"training\":\"/home/unai/.cache/kagglehub/datasets/faber24/lcc-fasd/versions/1/LCC_FASD/LCC_FASD_training\",\n",
    "    \"evaluation\":\"/home/unai/.cache/kagglehub/datasets/faber24/lcc-fasd/versions/1/LCC_FASD/LCC_FASD_evaluation\",\n",
    "    \"development\":\"/home/unai/.cache/kagglehub/datasets/faber24/lcc-fasd/versions/1/LCC_FASD/LCC_FASD_development\"\n",
    "}\n"
   ]
  },
  {
   "cell_type": "markdown",
   "metadata": {},
   "source": [
    "## Creating Dataloader"
   ]
  },
  {
   "cell_type": "code",
   "execution_count": 5,
   "metadata": {},
   "outputs": [
    {
     "data": {
      "text/plain": [
       "{'real': 0, 'spoof': 1}"
      ]
     },
     "execution_count": 5,
     "metadata": {},
     "output_type": "execute_result"
    }
   ],
   "source": [
    "data = datasets.ImageFolder(data_splits_paths[\"training\"])\n",
    "data.class_to_idx"
   ]
  },
  {
   "cell_type": "code",
   "execution_count": null,
   "metadata": {},
   "outputs": [],
   "source": [
    "transform = transforms.Compose([\n",
    "    transforms.Resize(256),  # Resize images to 224x224\n",
    "    transforms.CenterCrop(224),\n",
    "    transforms.ToTensor(),          # Convert images to Tensor\n",
    "    transforms.Normalize(mean=[0.485, 0.456, 0.406], std=[0.229, 0.224, 0.225])  # Normalize images\n",
    "])\n",
    "\n",
    "train_dataset = datasets.ImageFolder(root=data_splits_paths['training'], transform=transform)\n",
    "test_dataset = datasets.ImageFolder(root=data_splits_paths['evaluation'], transform=transform)\n",
    "\n",
    "train_loader = DataLoader(train_dataset, batch_size=32, shuffle=True)\n",
    "test_loader = DataLoader(test_dataset, shuffle=False)"
   ]
  },
  {
   "cell_type": "markdown",
   "metadata": {},
   "source": [
    "## Training"
   ]
  },
  {
   "cell_type": "code",
   "execution_count": 7,
   "metadata": {},
   "outputs": [],
   "source": [
    "def simple_train_model(model,criterion,optimizer,epochs):\n",
    "    device = torch.device(\"cuda\" if torch.cuda.is_available() else \"cpu\")\n",
    "    model.to(device)\n",
    "\n",
    "    for epoch in range(epochs):  # loop over the dataset multiple times\n",
    "        model.train(True)\n",
    "        running_loss = 0.0\n",
    "        running_f1 = 0.0\n",
    "        running_acc = 0.0\n",
    "        for i, data in enumerate(train_loader, 0):\n",
    "            inputs, labels = data\n",
    "            inputs, labels = inputs.to(device), labels.to(device).to(torch.float32)\n",
    "\n",
    "            optimizer.zero_grad()  # zero the parameter gradients\n",
    "            \n",
    "            outputs = model(inputs)\n",
    "            outputs = outputs.squeeze(1)\n",
    "            loss = criterion(outputs, labels)\n",
    "            loss.backward()\n",
    "            running_loss += loss\n",
    "            optimizer.step()\n",
    "        \n",
    "            y_pred, y_true = np.round(outputs.detach().cpu().numpy(), decimals=0), labels.detach().cpu().numpy()\n",
    "            running_f1 += f1_score(y_pred=y_pred, y_true=y_true)\n",
    "            running_acc += accuracy_score(y_pred=y_pred, y_true=y_true)\n",
    "        print(f'Epoch {epoch+1}/{epochs}, Loss: {running_loss/i:.4f}, F1 Score: {running_f1/i:.4f}, Accuracy: {running_acc/i:.4f}')\n",
    "\n"
   ]
  },
  {
   "cell_type": "code",
   "execution_count": 9,
   "metadata": {},
   "outputs": [],
   "source": [
    "class SimpleCNN(nn.Module):\n",
    "    def __init__(self):\n",
    "        super(SimpleCNN, self).__init__()\n",
    "        self.conv1 = nn.Conv2d(3, 16, 3, padding=1)\n",
    "        self.conv2 = nn.Conv2d(16, 32, 3, padding=1)\n",
    "        self.pool = nn.MaxPool2d(2, 2)\n",
    "        self.fc1 = nn.Linear(32 * 56 * 56, 64)\n",
    "        self.fc2 = nn.Linear(64, 1)\n",
    "        self.relu = nn.ReLU()\n",
    "        self.sigmoid = nn.Sigmoid()\n",
    "\n",
    "    def forward(self, x):\n",
    "        x = self.pool(self.relu(self.conv1(x)))\n",
    "        x = self.pool(self.relu(self.conv2(x)))\n",
    "        x = x.view(-1, 32 * 56 * 56)\n",
    "        x = self.relu(self.fc1(x))\n",
    "        x = self.sigmoid(self.fc2(x))\n",
    "        return x"
   ]
  },
  {
   "cell_type": "code",
   "execution_count": 10,
   "metadata": {},
   "outputs": [],
   "source": [
    "class DeeperCNN(nn.Module):\n",
    "    def __init__(self):\n",
    "        super(DeeperCNN, self).__init__()\n",
    "        self.conv1 = nn.Conv2d(3, 16, 3, padding=1)\n",
    "        self.conv2 = nn.Conv2d(16, 32, 3, padding=1)\n",
    "        self.pool = nn.MaxPool2d(2, 2)\n",
    "        self.fc1 = nn.Linear(32 * 56 * 56, 512)\n",
    "        self.fc2 = nn.Linear(512, 64)\n",
    "        self.fc3 = nn.Linear(64, 1)\n",
    "        self.relu = nn.ReLU()\n",
    "        self.sigmoid = nn.Sigmoid()\n",
    "\n",
    "    def forward(self, x):\n",
    "        x = self.pool(self.relu(self.conv1(x)))\n",
    "        x = self.pool(self.relu(self.conv2(x)))\n",
    "        x = x.view(-1, 32 * 56 * 56)\n",
    "        x = self.relu(self.fc1(x))\n",
    "        x = self.relu(self.fc2(x))\n",
    "        x = self.sigmoid(self.fc3(x))\n",
    "        return x"
   ]
  },
  {
   "cell_type": "code",
   "execution_count": 8,
   "metadata": {},
   "outputs": [],
   "source": [
    "class NotsoDeepCNN(nn.Module):\n",
    "    def __init__(self):\n",
    "        super(NotsoDeepCNN, self).__init__()\n",
    "        self.conv1 = nn.Conv2d(3, 16, 3, padding=1)\n",
    "        self.conv2 = nn.Conv2d(16, 32, 3, padding=1)\n",
    "        self.pool = nn.MaxPool2d(2, 2)\n",
    "        self.fc1 = nn.Linear(32 * 56 * 56, 300)\n",
    "        self.fc2 = nn.Linear(300, 40)\n",
    "        self.fc3 = nn.Linear(40, 1)\n",
    "        self.relu = nn.ReLU()\n",
    "        self.sigmoid = nn.Sigmoid()\n",
    "\n",
    "    def forward(self, x):\n",
    "        x = self.pool(self.relu(self.conv1(x)))\n",
    "        x = self.pool(self.relu(self.conv2(x)))\n",
    "        x = x.view(-1, 32 * 56 * 56)\n",
    "        x = self.relu(self.fc1(x))\n",
    "        x = self.relu(self.fc2(x))\n",
    "        x = self.sigmoid(self.fc3(x))\n",
    "        return x"
   ]
  },
  {
   "cell_type": "code",
   "execution_count": 25,
   "metadata": {},
   "outputs": [
    {
     "name": "stdout",
     "output_type": "stream",
     "text": [
      "Epoch 1/5, Loss: 14.7456, F1 Score: 0.9228, Accuracy: 0.8561\n",
      "Epoch 2/5, Loss: 14.8023, F1 Score: 0.9228, Accuracy: 0.8558\n",
      "Epoch 3/5, Loss: 14.8254, F1 Score: 0.9224, Accuracy: 0.8556\n",
      "Epoch 4/5, Loss: 14.8023, F1 Score: 0.9228, Accuracy: 0.8558\n",
      "Epoch 5/5, Loss: 14.7793, F1 Score: 0.9230, Accuracy: 0.8561\n"
     ]
    }
   ],
   "source": [
    "model = SimpleCNN()\n",
    "criterion = nn.BCELoss()\n",
    "optimizer = optim.Adam(model.parameters(), lr=0.001)\n",
    "simple_train_model(model=model,criterion=criterion,optimizer=optimizer,epochs=5)"
   ]
  },
  {
   "cell_type": "code",
   "execution_count": 10,
   "metadata": {},
   "outputs": [
    {
     "name": "stdout",
     "output_type": "stream",
     "text": [
      "Epoch 1/5, Loss: 0.3328, F1 Score: 0.9325, Accuracy: 0.8788\n",
      "Epoch 2/5, Loss: 0.1802, F1 Score: 0.9638, Accuracy: 0.9356\n",
      "Epoch 3/5, Loss: 0.1055, F1 Score: 0.9795, Accuracy: 0.9626\n",
      "Epoch 4/5, Loss: 0.0719, F1 Score: 0.9875, Accuracy: 0.9764\n",
      "Epoch 5/5, Loss: 0.0508, F1 Score: 0.9927, Accuracy: 0.9849\n"
     ]
    }
   ],
   "source": [
    "model = DeeperCNN()\n",
    "criterion = nn.BCELoss()\n",
    "optimizer = optim.Adam(model.parameters(), lr=0.001)\n",
    "simple_train_model(model=model,criterion=criterion,optimizer=optimizer,epochs=5)"
   ]
  },
  {
   "cell_type": "code",
   "execution_count": 21,
   "metadata": {},
   "outputs": [],
   "source": [
    "torch.save(model.state_dict(), \"/home/unai/Documents/Uni/Año4/Deusto/SI/ExportedModels/v1.pth\")"
   ]
  },
  {
   "cell_type": "code",
   "execution_count": 17,
   "metadata": {},
   "outputs": [
    {
     "name": "stdout",
     "output_type": "stream",
     "text": [
      "Epoch 1/5, Loss: 0.4880, F1 Score: 0.9217, Accuracy: 0.8627\n",
      "Epoch 2/5, Loss: 0.2173, F1 Score: 0.9553, Accuracy: 0.9202\n",
      "Epoch 3/5, Loss: 0.1209, F1 Score: 0.9788, Accuracy: 0.9611\n",
      "Epoch 4/5, Loss: 0.0655, F1 Score: 0.9902, Accuracy: 0.9809\n",
      "Epoch 5/5, Loss: 0.0490, F1 Score: 0.9936, Accuracy: 0.9864\n"
     ]
    }
   ],
   "source": [
    "model = NotsoDeepCNN()\n",
    "criterion = nn.BCELoss()\n",
    "optimizer = optim.Adam(model.parameters(), lr=0.001)\n",
    "simple_train_model(model=model,criterion=criterion,optimizer=optimizer,epochs=5)"
   ]
  },
  {
   "cell_type": "code",
   "execution_count": 18,
   "metadata": {},
   "outputs": [],
   "source": [
    "torch.save(model.state_dict(), \"/home/unai/Documents/Uni/Año4/Deusto/SI/ExportedModels/v3.pth\")"
   ]
  },
  {
   "cell_type": "markdown",
   "metadata": {},
   "source": [
    "## Testing the trained model"
   ]
  },
  {
   "cell_type": "code",
   "execution_count": 11,
   "metadata": {},
   "outputs": [
    {
     "data": {
      "text/plain": [
       "NotsoDeepCNN(\n",
       "  (conv1): Conv2d(3, 16, kernel_size=(3, 3), stride=(1, 1), padding=(1, 1))\n",
       "  (conv2): Conv2d(16, 32, kernel_size=(3, 3), stride=(1, 1), padding=(1, 1))\n",
       "  (pool): MaxPool2d(kernel_size=2, stride=2, padding=0, dilation=1, ceil_mode=False)\n",
       "  (fc1): Linear(in_features=100352, out_features=300, bias=True)\n",
       "  (fc2): Linear(in_features=300, out_features=40, bias=True)\n",
       "  (fc3): Linear(in_features=40, out_features=1, bias=True)\n",
       "  (relu): ReLU()\n",
       "  (sigmoid): Sigmoid()\n",
       ")"
      ]
     },
     "execution_count": 11,
     "metadata": {},
     "output_type": "execute_result"
    }
   ],
   "source": [
    "model = NotsoDeepCNN()\n",
    "model.load_state_dict(torch.load(\"v3.pth\", weights_only=True))\n",
    "model.eval()"
   ]
  },
  {
   "cell_type": "code",
   "execution_count": 16,
   "metadata": {},
   "outputs": [],
   "source": [
    "def get_prediction(image):\n",
    "    outputs = model.forward(image)\n",
    "    outputs = outputs.detach().cpu().numpy()\n",
    "    predicted_class = np.round(outputs)\n",
    "    return predicted_class[0][0]"
   ]
  },
  {
   "cell_type": "code",
   "execution_count": null,
   "metadata": {},
   "outputs": [
    {
     "name": "stderr",
     "output_type": "stream",
     "text": [
      "7580it [05:25, 23.32it/s]"
     ]
    },
    {
     "name": "stdout",
     "output_type": "stream",
     "text": [
      "Confusion matrix:\n",
      " [[ 241   73]\n",
      " [1347 5919]]\n"
     ]
    },
    {
     "name": "stderr",
     "output_type": "stream",
     "text": [
      "\n"
     ]
    }
   ],
   "source": [
    "device = torch.device(\"cuda\" if torch.cuda.is_available() else \"cpu\")\n",
    "y_true = []\n",
    "y_pred = []\n",
    "for i, data in tqdm(enumerate(test_loader, 0)):\n",
    "    inputs, labels = data\n",
    "    inputs, labels = inputs.to(device), labels.to(device).to(torch.float32)\n",
    "    y_true.append(int(labels[0]))\n",
    "    y_pred.append(get_prediction(inputs))\n",
    "\n"
   ]
  },
  {
   "cell_type": "code",
   "execution_count": 22,
   "metadata": {},
   "outputs": [
    {
     "name": "stdout",
     "output_type": "stream",
     "text": [
      "Confusion matrix:\n",
      " [[ 241   73]\n",
      " [1347 5919]] \n",
      "\n",
      "F1 Score: 0.8928948559360386\n"
     ]
    }
   ],
   "source": [
    "print(\"Confusion matrix:\\n\",\n",
    "      confusion_matrix(y_pred=y_pred,y_true=y_true),\n",
    "      \"\\n\\nF1 Score:\",f1_score(y_pred=y_pred,y_true=y_true))"
   ]
  },
  {
   "cell_type": "markdown",
   "metadata": {},
   "source": [
    "## Testing against other tools"
   ]
  },
  {
   "cell_type": "code",
   "execution_count": 5,
   "metadata": {},
   "outputs": [
    {
     "name": "stderr",
     "output_type": "stream",
     "text": [
      "2025-05-10 20:26:07.342284: E external/local_xla/xla/stream_executor/cuda/cuda_fft.cc:467] Unable to register cuFFT factory: Attempting to register factory for plugin cuFFT when one has already been registered\n",
      "WARNING: All log messages before absl::InitializeLog() is called are written to STDERR\n",
      "E0000 00:00:1746901567.374117  151023 cuda_dnn.cc:8579] Unable to register cuDNN factory: Attempting to register factory for plugin cuDNN when one has already been registered\n",
      "E0000 00:00:1746901567.384215  151023 cuda_blas.cc:1407] Unable to register cuBLAS factory: Attempting to register factory for plugin cuBLAS when one has already been registered\n",
      "W0000 00:00:1746901567.406055  151023 computation_placer.cc:177] computation placer already registered. Please check linkage and avoid linking the same target more than once.\n",
      "W0000 00:00:1746901567.406097  151023 computation_placer.cc:177] computation placer already registered. Please check linkage and avoid linking the same target more than once.\n",
      "W0000 00:00:1746901567.406099  151023 computation_placer.cc:177] computation placer already registered. Please check linkage and avoid linking the same target more than once.\n",
      "W0000 00:00:1746901567.406101  151023 computation_placer.cc:177] computation placer already registered. Please check linkage and avoid linking the same target more than once.\n",
      "2025-05-10 20:26:07.412212: I tensorflow/core/platform/cpu_feature_guard.cc:210] This TensorFlow binary is optimized to use available CPU instructions in performance-critical operations.\n",
      "To enable the following instructions: AVX2 FMA, in other operations, rebuild TensorFlow with the appropriate compiler flags.\n"
     ]
    }
   ],
   "source": [
    "from deepface import DeepFace\n",
    "import base64\n",
    "import os"
   ]
  },
  {
   "cell_type": "code",
   "execution_count": 6,
   "metadata": {},
   "outputs": [],
   "source": [
    "# anti spoofing test in face detection\n",
    "def get_deepface_prediction(img):\n",
    "    result = False\n",
    "    try:\n",
    "        face_obj = DeepFace.extract_faces(img_path=img, anti_spoofing = True)\n",
    "        result = face_obj[0][\"is_real\"]\n",
    "    except:\n",
    "        result = False\n",
    "    return result\n"
   ]
  },
  {
   "cell_type": "code",
   "execution_count": 7,
   "metadata": {},
   "outputs": [
    {
     "name": "stderr",
     "output_type": "stream",
     "text": [
      "7266it [47:15,  2.56it/s]\n",
      "314it [02:22,  2.21it/s]"
     ]
    },
    {
     "name": "stdout",
     "output_type": "stream",
     "text": [
      "Confusion matrix:\n",
      " [[3454 3812]\n",
      " [  28  286]] \n",
      "\n",
      "F1 Score: 0.12964641885766093\n"
     ]
    },
    {
     "name": "stderr",
     "output_type": "stream",
     "text": [
      "\n"
     ]
    }
   ],
   "source": [
    "data_splits_paths['evaluation']+'/spoof/spoof_320.png'\n",
    "\n",
    "y_pred = []\n",
    "y_true = []\n",
    "for entry in tqdm(os.scandir(data_splits_paths['evaluation']+'/spoof')):  \n",
    "    if entry.is_file():  # check if it's a file\n",
    "        result = get_deepface_prediction(entry.path)\n",
    "        num = 0\n",
    "        if result == True:\n",
    "            num = 1\n",
    "        y_true.append(0)\n",
    "        y_pred.append(num)\n",
    "for entry in tqdm(os.scandir(data_splits_paths['evaluation']+'/real')):  \n",
    "    if entry.is_file():  # check if it's a file\n",
    "        result = get_deepface_prediction(entry.path)\n",
    "        num = 0\n",
    "        if result == True:\n",
    "            num = 1\n",
    "        y_true.append(1)\n",
    "        y_pred.append(num)\n",
    "print(\"Confusion matrix:\\n\",\n",
    "      confusion_matrix(y_pred=y_pred,y_true=y_true),\n",
    "      \"\\n\\nF1 Score:\",f1_score(y_pred=y_pred,y_true=y_true))\n"
   ]
  },
  {
   "cell_type": "code",
   "execution_count": 32,
   "metadata": {},
   "outputs": [
    {
     "data": {
      "text/plain": [
       "False"
      ]
     },
     "execution_count": 32,
     "metadata": {},
     "output_type": "execute_result"
    }
   ],
   "source": [
    "face_obj = DeepFace.extract_faces(img_path='/home/unai/.cache/kagglehub/datasets/faber24/lcc-fasd/versions/1/LCC_FASD/LCC_FASD_evaluation/spoof/spoof_1964.png', anti_spoofing = True)\n",
    "face_obj[0]['is_real']"
   ]
  }
 ],
 "metadata": {
  "kernelspec": {
   "display_name": "SIEnv",
   "language": "python",
   "name": "python3"
  },
  "language_info": {
   "codemirror_mode": {
    "name": "ipython",
    "version": 3
   },
   "file_extension": ".py",
   "mimetype": "text/x-python",
   "name": "python",
   "nbconvert_exporter": "python",
   "pygments_lexer": "ipython3",
   "version": "3.10.12"
  }
 },
 "nbformat": 4,
 "nbformat_minor": 2
}
